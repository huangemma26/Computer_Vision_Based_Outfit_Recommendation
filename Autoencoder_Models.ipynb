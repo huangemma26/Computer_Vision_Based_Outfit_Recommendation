{
 "cells": [
  {
   "cell_type": "markdown",
   "metadata": {},
   "source": [
    "# Import Libraries"
   ]
  },
  {
   "cell_type": "code",
   "execution_count": 1,
   "metadata": {},
   "outputs": [
    {
     "name": "stderr",
     "output_type": "stream",
     "text": [
      "Using TensorFlow backend.\n"
     ]
    }
   ],
   "source": [
    "# Pandas and Numpy to format the data\n",
    "import pandas as pd\n",
    "import numpy as np\n",
    "\n",
    "# Keras to build the model\n",
    "import keras\n",
    "from keras import backend as K\n",
    "K.set_image_dim_ordering('th')\n",
    "from keras.models import Model, model_from_json\n",
    "from keras.layers import Conv2D, MaxPooling2D, UpSampling2D, Input\n",
    "from keras.layers.merge import Concatenate\n",
    "from keras.layers.core import Flatten, Dense, Dropout, Activation\n",
    "from keras.preprocessing.sequence import pad_sequences\n",
    "from keras.callbacks import EarlyStopping\n",
    "\n",
    "# Pickle to load the data and save the models\n",
    "import pickle"
   ]
  },
  {
   "cell_type": "markdown",
   "metadata": {},
   "source": [
    "# Model Architecture\n",
    "Model to embed images of clothing"
   ]
  },
  {
   "cell_type": "code",
   "execution_count": 2,
   "metadata": {},
   "outputs": [
    {
     "name": "stdout",
     "output_type": "stream",
     "text": [
      "shape of decoded (None, 3, 64, 64)\n"
     ]
    }
   ],
   "source": [
    "# Initialize the imput as a color image size 64x64 pixels\n",
    "input_layer = Input(shape=(3,64,64))\n",
    "\n",
    "# Encoder: Increase dimensionality in convolutions, then reduce to 16x1x1\n",
    "conv1 = Conv2D(496, (3, 3), activation='relu', padding='same')(input_layer)\n",
    "pool1 = MaxPooling2D(pool_size=(2, 2), padding='same')(conv1)\n",
    "conv2 = Conv2D(248, (3, 3), activation='relu', padding='same')(pool1)\n",
    "pool2 = MaxPooling2D(pool_size=(2, 2), padding='same')(conv2)\n",
    "conv3 = Conv2D(124, (3, 3), activation='relu', padding='same')(pool2)\n",
    "pool3 = MaxPooling2D(pool_size=(2, 2), padding='same')(conv3)\n",
    "conv4 = Conv2D(64, (3, 3), activation='relu', padding='same')(pool3)\n",
    "pool4 = MaxPooling2D(pool_size=(2, 2), padding='same')(conv4)\n",
    "conv5 = Conv2D(32, (3, 3), activation='relu', padding='same')(pool4)\n",
    "pool5 = MaxPooling2D((2, 2), padding='same')(conv5)\n",
    "conv6 = Conv2D(16, (3, 3), activation='relu', padding='same')(pool5)\n",
    "pool6 = MaxPooling2D((2, 2), padding='same')(conv6)\n",
    "conv7 = Conv2D(16, (3, 3), activation='relu', padding='same')(pool6)\n",
    "pool7 = MaxPooling2D((2, 2), padding='same')(conv7)\n",
    "\n",
    "# Reduced dimensionailty layer that can be taken as an embedding of the original image\n",
    "encoded = Flatten(name = 'encoded')(pool7)\n",
    "\n",
    "# Decoder: Reverse the process of the encoder\n",
    "conv8 = Conv2D(16, (3, 3), activation='relu', padding='same')(pool7) \n",
    "up1 = UpSampling2D((2,2))(conv8)\n",
    "conv9 = Conv2D(16, (3, 3), activation='relu', padding='same')(up1) \n",
    "up2 = UpSampling2D((2,2))(conv9)\n",
    "conv10 = Conv2D(32, (3, 3), activation='relu', padding='same')(up2) \n",
    "up3 = UpSampling2D((2,2))(conv10) \n",
    "conv11 = Conv2D(64, (3, 3), activation='relu', padding='same')(up3)\n",
    "up4 = UpSampling2D((2,2))(conv11)\n",
    "conv12 = Conv2D(124, (3, 3), activation='relu', padding='same')(up4)\n",
    "up5 = UpSampling2D((2,2))(conv12) \n",
    "conv13 = Conv2D(248, (3, 3), activation='relu', padding='same')(up5)\n",
    "up6 = UpSampling2D((1, 1))(conv13)\n",
    "conv14 = Conv2D(496, (3, 3), activation='relu', padding='same')(up6)\n",
    "up7 = UpSampling2D((2, 2))(conv14)\n",
    "\n",
    "# Final layer that is the same shape as the input. This is the result that should return the same image as the input\n",
    "decoded = Conv2D(3, (5, 5), activation='sigmoid', padding='same')(up7)\n",
    "# Check the output is the same shape as the input\n",
    "print ('shape of decoded', K.int_shape(decoded))\n",
    "\n",
    "# Initialize input and output\n",
    "autoencoder = Model(input_layer, decoded)\n",
    "\n",
    "# Model that will return the embedding rather than the predicted image, but trained using the autoencoded model\n",
    "encoder = Model(input_layer, encoded)"
   ]
  },
  {
   "cell_type": "code",
   "execution_count": 3,
   "metadata": {},
   "outputs": [],
   "source": [
    "# Save the architextures as strings\n",
    "json_autoencoder = autoencoder.to_json()\n",
    "json_encoder = encoder.to_json()"
   ]
  },
  {
   "cell_type": "code",
   "execution_count": 4,
   "metadata": {},
   "outputs": [],
   "source": [
    "# Implement early stopping\n",
    "early_stopping = EarlyStopping(monitor='val_loss', min_delta=0, patience=10, verbose=1, mode='auto')"
   ]
  },
  {
   "cell_type": "markdown",
   "metadata": {},
   "source": [
    "# Run All the Models\n",
    "Train separate models for 7 different types of clothing that could comprise an outfit"
   ]
  },
  {
   "cell_type": "code",
   "execution_count": 5,
   "metadata": {},
   "outputs": [],
   "source": [
    "item = ['dress','top','pullover','outerwear','bottom','shoe','bag']\n",
    "\n",
    "for i in range(1):\n",
    "    # Establish the models from the jsons\n",
    "    autoencoder = model_from_json(json_autoencoder)\n",
    "    encoder = model_from_json(json_encoder)\n",
    "    \n",
    "    # Import the images (which are preprocessed and stored in a numpy array of shape (15049,3,64,64))\n",
    "    path = '../small_image_vectors/' + item[i] + '.pkl'\n",
    "    with open(path, 'rb') as picklefile: \n",
    "        features = pickle.load(picklefile)\n",
    "    # Standardize the features\n",
    "    features = features/255\n",
    "    \n",
    "    # Fit the Model\n",
    "    autoencoder.compile(optimizer='adadelta', loss='binary_crossentropy')\n",
    "    print('Fitting model '+str(i+1))\n",
    "    autoencoder.fit(features, features, epochs=400, batch_size=100, validation_split=.15, callbacks=[early_stopping])\n",
    "    \n",
    "    # Save the model and and encoder\n",
    "    autoencoder_name = item[i] + '_model.h5'\n",
    "    autoencoder.save(autoencoder_name)\n",
    "    encoder_name = item[i] + 'embedding_model.h5'\n",
    "    encoder.save(encoder_name)\n",
    "    \n",
    "    # Delete the images and models to make room in memory\n",
    "    del(features)\n",
    "    del(autoencoder)\n",
    "    del(encoder)"
   ]
  },
  {
   "cell_type": "markdown",
   "metadata": {},
   "source": [
    "# Alternate Model Trained on All Articles of Clothing"
   ]
  },
  {
   "cell_type": "code",
   "execution_count": 6,
   "metadata": {},
   "outputs": [],
   "source": [
    "# Load all the images\n",
    "with open(\"../small_image_vectors/dress.pkl\", 'rb') as picklefile: \n",
    "    dress_features = pickle.load(picklefile)\n",
    "\n",
    "with open(\"../small_image_vectors/top.pkl\", 'rb') as picklefile: \n",
    "    top_features = pickle.load(picklefile)\n",
    "\n",
    "with open(\"../small_image_vectors/pullover.pkl\", 'rb') as picklefile: \n",
    "    pullover_features = pickle.load(picklefile)\n",
    "    \n",
    "with open(\"../small_image_vectors/outerwear.pkl\", 'rb') as picklefile: \n",
    "    outerwear_features = pickle.load(picklefile)\n",
    "    \n",
    "with open(\"../small_image_vectors/bottom.pkl\", 'rb') as picklefile: \n",
    "    bottom_features = pickle.load(picklefile)\n",
    "    \n",
    "with open(\"../small_image_vectors/shoe.pkl\", 'rb') as picklefile: \n",
    "    shoe_features = pickle.load(picklefile)\n",
    "    \n",
    "with open(\"../small_image_vectors/bag.pkl\", 'rb') as picklefile: \n",
    "    bag_features = pickle.load(picklefile)\n",
    "\n",
    "# Concatenate all the images together\n",
    "features = np.concatenate((dress_features,\n",
    "                           top_features,\n",
    "                           pullover_features,\n",
    "                           outerwear_features,\n",
    "                           bottom_features,\n",
    "                           shoe_features,\n",
    "                           bag_features\n",
    "                          ), axis=0)\n",
    "\n",
    "# Delete the individual features for space\n",
    "del(dress_features,\n",
    "    top_features,\n",
    "    pullover_features,\n",
    "    outerwear_features,\n",
    "    bottom_features,\n",
    "    shoe_features,\n",
    "    bag_features\n",
    "   )\n",
    "\n",
    "# Standardize the features\n",
    "features = features/255"
   ]
  },
  {
   "cell_type": "code",
   "execution_count": 7,
   "metadata": {},
   "outputs": [],
   "source": [
    "# Establish the models from the jsons\n",
    "autoencoder = model_from_json(json_autoencoder)\n",
    "encoder = model_from_json(json_encoder)"
   ]
  },
  {
   "cell_type": "code",
   "execution_count": 8,
   "metadata": {},
   "outputs": [],
   "source": [
    "# Fit the Model\n",
    "autoencoder.compile(optimizer='adadelta', loss='binary_crossentropy')\n",
    "autoencoder.fit(features, features, epochs=400, batch_size=100, validation_split=.15, callbacks=[early_stopping])"
   ]
  },
  {
   "cell_type": "code",
   "execution_count": 9,
   "metadata": {},
   "outputs": [],
   "source": [
    "# Save the model and and encoder\n",
    "autoencoder.save('all_model.h5')\n",
    "encoder.save('all_embedding_model.h5')"
   ]
  },
  {
   "cell_type": "code",
   "execution_count": 10,
   "metadata": {},
   "outputs": [],
   "source": [
    "# Delete the images and models to make room in memory\n",
    "del(features)\n",
    "del(autoencoder)\n",
    "del(encoder)"
   ]
  }
 ],
 "metadata": {
  "kernelspec": {
   "display_name": "Environment (conda_tensorflow_p36)",
   "language": "python",
   "name": "conda_tensorflow_p36"
  },
  "language_info": {
   "codemirror_mode": {
    "name": "ipython",
    "version": 3
   },
   "file_extension": ".py",
   "mimetype": "text/x-python",
   "name": "python",
   "nbconvert_exporter": "python",
   "pygments_lexer": "ipython3",
   "version": "3.6.5"
  }
 },
 "nbformat": 4,
 "nbformat_minor": 2
}
